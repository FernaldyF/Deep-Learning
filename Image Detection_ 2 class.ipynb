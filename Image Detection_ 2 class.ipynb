{
  "nbformat": 4,
  "nbformat_minor": 0,
  "metadata": {
    "colab": {
      "provenance": [],
      "gpuType": "T4"
    },
    "kernelspec": {
      "name": "python3",
      "display_name": "Python 3"
    },
    "language_info": {
      "name": "python"
    },
    "accelerator": "GPU"
  },
  "cells": [
    {
      "cell_type": "code",
      "source": [
        "pip install keras-tuner"
      ],
      "metadata": {
        "colab": {
          "base_uri": "https://localhost:8080/"
        },
        "id": "mwAk8o1Ia6H7",
        "outputId": "5f11251a-20f7-4add-c4b8-099200a7d9bf"
      },
      "execution_count": 99,
      "outputs": [
        {
          "output_type": "stream",
          "name": "stdout",
          "text": [
            "Requirement already satisfied: keras-tuner in /usr/local/lib/python3.10/dist-packages (1.4.7)\n",
            "Requirement already satisfied: keras in /usr/local/lib/python3.10/dist-packages (from keras-tuner) (2.15.0)\n",
            "Requirement already satisfied: packaging in /usr/local/lib/python3.10/dist-packages (from keras-tuner) (24.1)\n",
            "Requirement already satisfied: requests in /usr/local/lib/python3.10/dist-packages (from keras-tuner) (2.31.0)\n",
            "Requirement already satisfied: kt-legacy in /usr/local/lib/python3.10/dist-packages (from keras-tuner) (1.0.5)\n",
            "Requirement already satisfied: charset-normalizer<4,>=2 in /usr/local/lib/python3.10/dist-packages (from requests->keras-tuner) (3.3.2)\n",
            "Requirement already satisfied: idna<4,>=2.5 in /usr/local/lib/python3.10/dist-packages (from requests->keras-tuner) (3.7)\n",
            "Requirement already satisfied: urllib3<3,>=1.21.1 in /usr/local/lib/python3.10/dist-packages (from requests->keras-tuner) (2.0.7)\n",
            "Requirement already satisfied: certifi>=2017.4.17 in /usr/local/lib/python3.10/dist-packages (from requests->keras-tuner) (2024.6.2)\n"
          ]
        }
      ]
    },
    {
      "cell_type": "code",
      "execution_count": 100,
      "metadata": {
        "id": "5UA4eB89tSsI"
      },
      "outputs": [],
      "source": [
        "import numpy as np\n",
        "import pandas as pd\n",
        "import matplotlib.pyplot as plt\n",
        "from sklearn.model_selection import train_test_split\n",
        "import tensorflow as tf\n",
        "import tensorflow.keras as keras\n",
        "import keras_tuner as kt\n",
        "from tensorflow.keras.optimizers import Adam\n",
        "from tensorflow.keras import layers, models\n",
        "from skimage.metrics import structural_similarity as ssim\n",
        "(train_images, train_labels), (test_images, test_labels) = tf.keras.datasets.fashion_mnist.load_data()"
      ]
    },
    {
      "cell_type": "code",
      "source": [
        "print(f\"Shape of train images: {train_images.shape}\")\n",
        "print(f\"Shape of test images: {train_labels.shape}\")\n",
        "\n",
        "num_images = 10\n",
        "fig, axes = plt.subplots(1, num_images, figsize=(20, 2))\n",
        "for i in range(num_images):\n",
        "    axes[i].imshow(train_images[i], cmap='gray')\n",
        "    axes[i].axis('off')\n",
        "plt.suptitle('First 10 Training Images')\n",
        "plt.show()"
      ],
      "metadata": {
        "colab": {
          "base_uri": "https://localhost:8080/",
          "height": 179
        },
        "id": "Y3g-D1C9J40K",
        "outputId": "e4ab37df-dc9c-43df-9a83-24c02a6fa789"
      },
      "execution_count": 101,
      "outputs": [
        {
          "output_type": "stream",
          "name": "stdout",
          "text": [
            "Shape of train images: (60000, 28, 28)\n",
            "Shape of test images: (60000,)\n"
          ]
        },
        {
          "output_type": "display_data",
          "data": {
            "text/plain": [
              "<Figure size 2000x200 with 10 Axes>"
            ],
            "image/png": "[encoded data removed]"
          },
          "metadata": {}
        }
      ]
    },
    {
      "cell_type": "code",
      "source": [
        "# Filter only the classes 4 (Coat) and 5 (Sandal)\n",
        "coat_train = np.where(train_labels == 4)[0]\n",
        "sandal_train = np.where(train_labels == 5)[0]\n",
        "\n",
        "coat_train_images = train_images[coat_train]\n",
        "sandal_train_images = train_images[sandal_train]\n",
        "\n",
        "coat_train_labels = train_labels[coat_train]\n",
        "sandal_train_labels = train_labels[sandal_train]\n",
        "\n",
        "# Combine the filtered images\n",
        "filtered_train_images = np.concatenate((coat_train_images, sandal_train_images), axis=0)\n",
        "filtered_test_images = np.concatenate((coat_train_labels, sandal_train_labels), axis=0)\n",
        "\n",
        "# Print the shapes of the filtered datasets\n",
        "print(f\"Shape of filtered train images: {filtered_train_images.shape}\")\n",
        "print(f\"Shape of filtered test images: {filtered_test_images.shape}\")"
      ],
      "metadata": {
        "colab": {
          "base_uri": "https://localhost:8080/"
        },
        "id": "0KVcfn5nMCPu",
        "outputId": "bc1c612c-cb80-4219-e20c-a6dfb2d0e15a"
      },
      "execution_count": 102,
      "outputs": [
        {
          "output_type": "stream",
          "name": "stdout",
          "text": [
            "Shape of filtered train images: (12000, 28, 28)\n",
            "Shape of filtered test images: (12000,)\n"
          ]
        }
      ]
    },
    {
      "cell_type": "code",
      "source": [
        "fig,axes = plt.subplots(1,2, figsize = (12,6))\n",
        "axes[0].imshow(filtered_train_images[10], cmap='gray')\n",
        "axes[0].set_title('Image Coat')\n",
        "\n",
        "axes[1].imshow(filtered_train_images[6015], cmap='gray')\n",
        "axes[1].set_title('Image Sandal')\n",
        "plt.suptitle('Coat and Sandal')\n",
        "plt.show()"
      ],
      "metadata": {
        "colab": {
          "base_uri": "https://localhost:8080/",
          "height": 563
        },
        "id": "Pk06WcMQMKvW",
        "outputId": "5f4d77a6-45a5-4084-f453-a5f6af4ce7e1"
      },
      "execution_count": 103,
      "outputs": [
        {
          "output_type": "display_data",
          "data": {
            "text/plain": [
              "<Figure size 1200x600 with 2 Axes>"
            ],
            "image/png": "[encoded data removed]"
          },
          "metadata": {}
        }
      ]
    },
    {
      "cell_type": "code",
      "source": [
        "filtered_train_images = filtered_train_images.astype(float) * (1.0/255)\n",
        "filtered_train_images"
      ],
      "metadata": {
        "colab": {
          "base_uri": "https://localhost:8080/"
        },
        "id": "CyiwoV4blpdi",
        "outputId": "6d70dc0c-31f0-4333-80c0-e47265e986b1"
      },
      "execution_count": 104,
      "outputs": [
        {
          "output_type": "execute_result",
          "data": {
            "text/plain": [
              "array([[[0., 0., 0., ..., 0., 0., 0.],\n",
              "        [0., 0., 0., ..., 0., 0., 0.],\n",
              "        [0., 0., 0., ..., 0., 0., 0.],\n",
              "        ...,\n",
              "        [0., 0., 0., ..., 0., 0., 0.],\n",
              "        [0., 0., 0., ..., 0., 0., 0.],\n",
              "        [0., 0., 0., ..., 0., 0., 0.]],\n",
              "\n",
              "       [[0., 0., 0., ..., 0., 0., 0.],\n",
              "        [0., 0., 0., ..., 0., 0., 0.],\n",
              "        [0., 0., 0., ..., 0., 0., 0.],\n",
              "        ...,\n",
              "        [0., 0., 0., ..., 0., 0., 0.],\n",
              "        [0., 0., 0., ..., 0., 0., 0.],\n",
              "        [0., 0., 0., ..., 0., 0., 0.]],\n",
              "\n",
              "       [[0., 0., 0., ..., 0., 0., 0.],\n",
              "        [0., 0., 0., ..., 0., 0., 0.],\n",
              "        [0., 0., 0., ..., 0., 0., 0.],\n",
              "        ...,\n",
              "        [0., 0., 0., ..., 0., 0., 0.],\n",
              "        [0., 0., 0., ..., 0., 0., 0.],\n",
              "        [0., 0., 0., ..., 0., 0., 0.]],\n",
              "\n",
              "       ...,\n",
              "\n",
              "       [[0., 0., 0., ..., 0., 0., 0.],\n",
              "        [0., 0., 0., ..., 0., 0., 0.],\n",
              "        [0., 0., 0., ..., 0., 0., 0.],\n",
              "        ...,\n",
              "        [0., 0., 0., ..., 0., 0., 0.],\n",
              "        [0., 0., 0., ..., 0., 0., 0.],\n",
              "        [0., 0., 0., ..., 0., 0., 0.]],\n",
              "\n",
              "       [[0., 0., 0., ..., 0., 0., 0.],\n",
              "        [0., 0., 0., ..., 0., 0., 0.],\n",
              "        [0., 0., 0., ..., 0., 0., 0.],\n",
              "        ...,\n",
              "        [0., 0., 0., ..., 0., 0., 0.],\n",
              "        [0., 0., 0., ..., 0., 0., 0.],\n",
              "        [0., 0., 0., ..., 0., 0., 0.]],\n",
              "\n",
              "       [[0., 0., 0., ..., 0., 0., 0.],\n",
              "        [0., 0., 0., ..., 0., 0., 0.],\n",
              "        [0., 0., 0., ..., 0., 0., 0.],\n",
              "        ...,\n",
              "        [0., 0., 0., ..., 0., 0., 0.],\n",
              "        [0., 0., 0., ..., 0., 0., 0.],\n",
              "        [0., 0., 0., ..., 0., 0., 0.]]])"
            ]
          },
          "metadata": {},
          "execution_count": 104
        }
      ]
    },
    {
      "cell_type": "code",
      "source": [
        "x_train, x_temp, y_train, y_temp = train_test_split(filtered_train_images, filtered_test_images, test_size=0.2, random_state=42)\n",
        "x_val, x_test, y_val, y_test = train_test_split(x_temp, y_temp, test_size=0.5, random_state=42)\n",
        "# Print the shapes of the datasets\n",
        "print(f\"Shape of train images: {x_train.shape},{y_train.shape}\")\n",
        "print(f\"Shape of validation images: {x_val.shape},{y_val.shape}\")\n",
        "print(f\"Shape of test images: {x_test.shape},{y_test.shape}\")"
      ],
      "metadata": {
        "colab": {
          "base_uri": "https://localhost:8080/"
        },
        "id": "nO-NpfkPNJcx",
        "outputId": "2390ee40-c7a0-4f55-9dc6-2480bbad623f"
      },
      "execution_count": 105,
      "outputs": [
        {
          "output_type": "stream",
          "name": "stdout",
          "text": [
            "Shape of train images: (9600, 28, 28),(9600,)\n",
            "Shape of validation images: (1200, 28, 28),(1200,)\n",
            "Shape of test images: (1200, 28, 28),(1200,)\n"
          ]
        }
      ]
    },
    {
      "cell_type": "code",
      "source": [
        "def example(data, label, num_images=3):\n",
        "  plt.figure(figsize=(10, 5))\n",
        "  for i in range(num_images):\n",
        "    plt.subplot(1, num_images, i + 1)\n",
        "    plt.imshow(data[i], cmap='gray')\n",
        "    plt.title(f\"Label: {label[i]}\")\n",
        "    plt.axis('off')\n",
        "  plt.tight_layout()\n",
        "  plt.show()"
      ],
      "metadata": {
        "id": "d3nrl_0coE4o"
      },
      "execution_count": 106,
      "outputs": []
    },
    {
      "cell_type": "code",
      "source": [
        "print(\"Example Images of Coat\")\n",
        "example(x_train[y_train == 4], y_train[y_train == 4])\n",
        "print(\"Example Images of Sandal\")\n",
        "example(x_train[y_train == 5], y_train[y_train == 5])"
      ],
      "metadata": {
        "colab": {
          "base_uri": "https://localhost:8080/",
          "height": 762
        },
        "id": "Hkk9MYKkonK_",
        "outputId": "eda8b94e-6a2e-4a1e-eba4-81a54c825a39"
      },
      "execution_count": 107,
      "outputs": [
        {
          "output_type": "stream",
          "name": "stdout",
          "text": [
            "Example Images of Coat\n"
          ]
        },
        {
          "output_type": "display_data",
          "data": {
            "text/plain": [
              "<Figure size 1000x500 with 3 Axes>"
            ],
            "image/png": "[encoded data removed]"
          },
          "metadata": {}
        },
        {
          "output_type": "stream",
          "name": "stdout",
          "text": [
            "Example Images of Sandal\n"
          ]
        },
        {
          "output_type": "display_data",
          "data": {
            "text/plain": [
              "<Figure size 1000x500 with 3 Axes>"
            ],
            "image/png": "[encoded data removed]"
          },
          "metadata": {}
        }
      ]
    },
    {
      "cell_type": "markdown",
      "source": [
        "Baseline Model"
      ],
      "metadata": {
        "id": "uxrRICfiNV7C"
      }
    },
    {
      "cell_type": "code",
      "source": [
        "def build_baseline_autoencoder():\n",
        "    # Baseline Encoder\n",
        "    input_encoder = layers.Input(shape=(28, 28, 1))\n",
        "    x = layers.Conv2D(32, (3, 3), activation='relu', padding='same')(input_encoder)\n",
        "    x = layers.MaxPooling2D((2, 2), padding='same')(x)\n",
        "    x = layers.Flatten()(x)\n",
        "    latent_space = layers.Dense(128, activation='relu', name='latent_space')(x)\n",
        "    encoder_model = models.Model(input_encoder, latent_space, name='encoder_model')\n",
        "    encoder_model.summary()\n",
        "\n",
        "    # Baseline Decoder\n",
        "    input_decoder = layers.Input(shape=(128,))\n",
        "    x = layers.Dense(6272, activation='relu')(input_decoder)\n",
        "    x = layers.Reshape((14, 14, 32))(x)\n",
        "    x = layers.UpSampling2D((2, 2))(x)\n",
        "    x = layers.Conv2D(32, (3, 3), activation='relu', padding='same')(x)\n",
        "    output_decoder = layers.Conv2D(1, (3, 3), activation='sigmoid', padding='same')(x)\n",
        "    decoder_model = models.Model(input_decoder, output_decoder, name='decoder_model')\n",
        "    decoder_model.summary()\n",
        "\n",
        "    # Baseline Autoencoder\n",
        "    autoencoder_input = input_encoder\n",
        "    encoded_output = encoder_model(autoencoder_input)\n",
        "    decoded_output = decoder_model(encoded_output)\n",
        "    autoencoder_model = models.Model(autoencoder_input, decoded_output, name='autoencoder_model')\n",
        "    autoencoder_model.summary()\n",
        "\n",
        "    # Compile the model\n",
        "    autoencoder_model.compile(optimizer=Adam(), loss='binary_crossentropy')\n",
        "    return autoencoder_model"
      ],
      "metadata": {
        "id": "T9AJ0woxNQ0C"
      },
      "execution_count": 108,
      "outputs": []
    },
    {
      "cell_type": "markdown",
      "source": [
        "Modified Model"
      ],
      "metadata": {
        "id": "2onaMVMqNXpv"
      }
    },
    {
      "cell_type": "code",
      "source": [
        "def build_modified_autoencoder():\n",
        "    # Modified Encoder\n",
        "    input_encoder = layers.Input(shape=(28, 28, 1))\n",
        "    x = layers.Conv2D(64, (3, 3), activation='relu', padding='same')(input_encoder)\n",
        "    x = layers.MaxPooling2D((2, 2), padding='same')(x)\n",
        "    x = layers.Conv2D(128, (3, 3), activation='relu', padding='same')(x)\n",
        "    x = layers.MaxPooling2D((2, 2), padding='same')(x)\n",
        "    x = layers.Conv2D(256, (3, 3), activation='relu', padding='same')(x)\n",
        "    x = layers.Flatten()(x)\n",
        "    latent_space = layers.Dense(256, activation='relu', name='latent_space')(x) # Encoder outputs 256 dim vector\n",
        "    encoder_model = models.Model(input_encoder, latent_space, name='encoder_model')\n",
        "    encoder_model.summary()\n",
        "\n",
        "    # Modified Decoder\n",
        "    input_decoder = layers.Input(shape=(256,)) # Change decoder input to 256\n",
        "    # Change the input dimension of the first Dense layer to 256\n",
        "    x = layers.Dense(256, activation='relu')(input_decoder)\n",
        "    x = layers.Dense(7 * 7 * 128, activation='relu')(x)\n",
        "    x = layers.Reshape((7, 7, 128))(x)\n",
        "    x = layers.Conv2DTranspose(128, (3, 3), activation='relu', padding='same')(x)\n",
        "    x = layers.UpSampling2D((2, 2))(x)\n",
        "    x = layers.Conv2DTranspose(64, (3, 3), activation='relu', padding='same')(x)\n",
        "    x = layers.UpSampling2D((2, 2))(x)\n",
        "    x = layers.Conv2DTranspose(32, (3, 3), activation='relu', padding='same')(x)\n",
        "    output_decoder = layers.Conv2D(1, (3, 3), activation='sigmoid', padding='same')(x)\n",
        "    decoder_model = models.Model(input_decoder, output_decoder, name='decoder_model')\n",
        "    decoder_model.summary()\n",
        "\n",
        "    # Modified Autoencoder\n",
        "    autoencoder_input = input_encoder\n",
        "    encoded_output = encoder_model(autoencoder_input)\n",
        "    decoded_output = decoder_model(encoded_output)\n",
        "    autoencoder_model = models.Model(autoencoder_input, decoded_output, name='autoencoder_model')\n",
        "    autoencoder_model.summary()\n",
        "\n",
        "    # Compile the model\n",
        "    autoencoder_model.compile(optimizer=Adam(learning_rate=0.001), loss='binary_crossentropy')\n",
        "    return autoencoder_model"
      ],
      "metadata": {
        "id": "NF6AwRHTNTrQ"
      },
      "execution_count": 109,
      "outputs": []
    },
    {
      "cell_type": "code",
      "source": [
        "x_train = x_train.reshape(-1, 28, 28, 1)\n",
        "x_val = x_val.reshape(-1, 28, 28, 1)\n",
        "x_test = x_test.reshape(-1, 28, 28, 1)"
      ],
      "metadata": {
        "id": "dI_BZpfmqXX0"
      },
      "execution_count": 110,
      "outputs": []
    },
    {
      "cell_type": "code",
      "source": [
        "# Train Baseline Autoencoder\n",
        "baseline_autoencoder = build_baseline_autoencoder()\n",
        "baseline_autoencoder.fit(x_train, x_train,\n",
        "                         epochs=50,\n",
        "                         batch_size=256,\n",
        "                         validation_data=(x_val, x_val))"
      ],
      "metadata": {
        "colab": {
          "base_uri": "https://localhost:8080/"
        },
        "id": "v6W6B2ftNdZt",
        "outputId": "998874bd-57e1-43ae-8a96-caae32c9c17c"
      },
      "execution_count": 111,
      "outputs": [
        {
          "output_type": "stream",
          "name": "stdout",
          "text": [
            "Model: \"encoder_model\"\n",
            "_________________________________________________________________\n",
            " Layer (type)                Output Shape              Param #   \n",
            "=================================================================\n",
            " input_15 (InputLayer)       [(None, 28, 28, 1)]       0         \n",
            "                                                                 \n",
            " conv2d_22 (Conv2D)          (None, 28, 28, 32)        320       \n",
            "                                                                 \n",
            " max_pooling2d_13 (MaxPooli  (None, 14, 14, 32)        0         \n",
            " ng2D)                                                           \n",
            "                                                                 \n",
            " flatten_7 (Flatten)         (None, 6272)              0         \n",
            "                                                                 \n",
            " latent_space (Dense)        (None, 128)               802944    \n",
            "                                                                 \n",
            "=================================================================\n",
            "Total params: 803264 (3.06 MB)\n",
            "Trainable params: 803264 (3.06 MB)\n",
            "Non-trainable params: 0 (0.00 Byte)\n",
            "_________________________________________________________________\n",
            "Model: \"decoder_model\"\n",
            "_________________________________________________________________\n",
            " Layer (type)                Output Shape              Param #   \n",
            "=================================================================\n",
            " input_16 (InputLayer)       [(None, 128)]             0         \n",
            "                                                                 \n",
            " dense_23 (Dense)            (None, 6272)              809088    \n",
            "                                                                 \n",
            " reshape_7 (Reshape)         (None, 14, 14, 32)        0         \n",
            "                                                                 \n",
            " up_sampling2d_13 (UpSampli  (None, 28, 28, 32)        0         \n",
            " ng2D)                                                           \n",
            "                                                                 \n",
            " conv2d_23 (Conv2D)          (None, 28, 28, 32)        9248      \n",
            "                                                                 \n",
            " conv2d_24 (Conv2D)          (None, 28, 28, 1)         289       \n",
            "                                                                 \n",
            "=================================================================\n",
            "Total params: 818625 (3.12 MB)\n",
            "Trainable params: 818625 (3.12 MB)\n",
            "Non-trainable params: 0 (0.00 Byte)\n",
            "_________________________________________________________________\n",
            "Model: \"autoencoder_model\"\n",
            "_________________________________________________________________\n",
            " Layer (type)                Output Shape              Param #   \n",
            "=================================================================\n",
            " input_15 (InputLayer)       [(None, 28, 28, 1)]       0         \n",
            "                                                                 \n",
            " encoder_model (Functional)  (None, 128)               803264    \n",
            "                                                                 \n",
            " decoder_model (Functional)  (None, 28, 28, 1)         818625    \n",
            "                                                                 \n",
            "=================================================================\n",
            "Total params: 1621889 (6.19 MB)\n",
            "Trainable params: 1621889 (6.19 MB)\n",
            "Non-trainable params: 0 (0.00 Byte)\n",
            "_________________________________________________________________\n",
            "Epoch 1/50\n",
            "38/38 [==============================] - 5s 33ms/step - loss: 0.4481 - val_loss: 0.3357\n",
            "Epoch 2/50\n",
            "38/38 [==============================] - 1s 22ms/step - loss: 0.3112 - val_loss: 0.2996\n",
            "Epoch 3/50\n",
            "38/38 [==============================] - 1s 22ms/step - loss: 0.2918 - val_loss: 0.2883\n",
            "Epoch 4/50\n",
            "38/38 [==============================] - 1s 21ms/step - loss: 0.2813 - val_loss: 0.2805\n",
            "Epoch 5/50\n",
            "38/38 [==============================] - 1s 19ms/step - loss: 0.2730 - val_loss: 0.2725\n",
            "Epoch 6/50\n",
            "38/38 [==============================] - 1s 22ms/step - loss: 0.2672 - val_loss: 0.2675\n",
            "Epoch 7/50\n",
            "38/38 [==============================] - 1s 25ms/step - loss: 0.2633 - val_loss: 0.2642\n",
            "Epoch 8/50\n",
            "38/38 [==============================] - 1s 22ms/step - loss: 0.2601 - val_loss: 0.2618\n",
            "Epoch 9/50\n",
            "38/38 [==============================] - 1s 23ms/step - loss: 0.2578 - val_loss: 0.2598\n",
            "Epoch 10/50\n",
            "38/38 [==============================] - 1s 26ms/step - loss: 0.2556 - val_loss: 0.2590\n",
            "Epoch 11/50\n",
            "38/38 [==============================] - 1s 35ms/step - loss: 0.2539 - val_loss: 0.2563\n",
            "Epoch 12/50\n",
            "38/38 [==============================] - 1s 37ms/step - loss: 0.2524 - val_loss: 0.2553\n",
            "Epoch 13/50\n",
            "38/38 [==============================] - 1s 31ms/step - loss: 0.2518 - val_loss: 0.2541\n",
            "Epoch 14/50\n",
            "38/38 [==============================] - 1s 25ms/step - loss: 0.2502 - val_loss: 0.2534\n",
            "Epoch 15/50\n",
            "38/38 [==============================] - 1s 23ms/step - loss: 0.2495 - val_loss: 0.2527\n",
            "Epoch 16/50\n",
            "38/38 [==============================] - 1s 24ms/step - loss: 0.2487 - val_loss: 0.2519\n",
            "Epoch 17/50\n",
            "38/38 [==============================] - 1s 23ms/step - loss: 0.2480 - val_loss: 0.2515\n",
            "Epoch 18/50\n",
            "38/38 [==============================] - 1s 25ms/step - loss: 0.2471 - val_loss: 0.2512\n",
            "Epoch 19/50\n",
            "38/38 [==============================] - 1s 36ms/step - loss: 0.2466 - val_loss: 0.2502\n",
            "Epoch 20/50\n",
            "38/38 [==============================] - 1s 20ms/step - loss: 0.2461 - val_loss: 0.2499\n",
            "Epoch 21/50\n",
            "38/38 [==============================] - 1s 22ms/step - loss: 0.2454 - val_loss: 0.2491\n",
            "Epoch 22/50\n",
            "38/38 [==============================] - 1s 23ms/step - loss: 0.2449 - val_loss: 0.2487\n",
            "Epoch 23/50\n",
            "38/38 [==============================] - 1s 22ms/step - loss: 0.2445 - val_loss: 0.2484\n",
            "Epoch 24/50\n",
            "38/38 [==============================] - 1s 24ms/step - loss: 0.2440 - val_loss: 0.2482\n",
            "Epoch 25/50\n",
            "38/38 [==============================] - 1s 27ms/step - loss: 0.2438 - val_loss: 0.2475\n",
            "Epoch 26/50\n",
            "38/38 [==============================] - 1s 27ms/step - loss: 0.2433 - val_loss: 0.2474\n",
            "Epoch 27/50\n",
            "38/38 [==============================] - 1s 28ms/step - loss: 0.2428 - val_loss: 0.2470\n",
            "Epoch 28/50\n",
            "38/38 [==============================] - 1s 31ms/step - loss: 0.2427 - val_loss: 0.2467\n",
            "Epoch 29/50\n",
            "38/38 [==============================] - 1s 28ms/step - loss: 0.2424 - val_loss: 0.2465\n",
            "Epoch 30/50\n",
            "38/38 [==============================] - 1s 26ms/step - loss: 0.2419 - val_loss: 0.2464\n",
            "Epoch 31/50\n",
            "38/38 [==============================] - 1s 24ms/step - loss: 0.2417 - val_loss: 0.2462\n",
            "Epoch 32/50\n",
            "38/38 [==============================] - 1s 14ms/step - loss: 0.2415 - val_loss: 0.2457\n",
            "Epoch 33/50\n",
            "38/38 [==============================] - 1s 14ms/step - loss: 0.2411 - val_loss: 0.2455\n",
            "Epoch 34/50\n",
            "38/38 [==============================] - 1s 14ms/step - loss: 0.2410 - val_loss: 0.2453\n",
            "Epoch 35/50\n",
            "38/38 [==============================] - 0s 13ms/step - loss: 0.2406 - val_loss: 0.2455\n",
            "Epoch 36/50\n",
            "38/38 [==============================] - 1s 14ms/step - loss: 0.2407 - val_loss: 0.2455\n",
            "Epoch 37/50\n",
            "38/38 [==============================] - 0s 13ms/step - loss: 0.2403 - val_loss: 0.2448\n",
            "Epoch 38/50\n",
            "38/38 [==============================] - 0s 13ms/step - loss: 0.2400 - val_loss: 0.2446\n",
            "Epoch 39/50\n",
            "38/38 [==============================] - 1s 14ms/step - loss: 0.2398 - val_loss: 0.2446\n",
            "Epoch 40/50\n",
            "38/38 [==============================] - 0s 13ms/step - loss: 0.2396 - val_loss: 0.2450\n",
            "Epoch 41/50\n",
            "38/38 [==============================] - 0s 13ms/step - loss: 0.2395 - val_loss: 0.2441\n",
            "Epoch 42/50\n",
            "38/38 [==============================] - 1s 14ms/step - loss: 0.2392 - val_loss: 0.2440\n",
            "Epoch 43/50\n",
            "38/38 [==============================] - 0s 13ms/step - loss: 0.2392 - val_loss: 0.2439\n",
            "Epoch 44/50\n",
            "38/38 [==============================] - 1s 14ms/step - loss: 0.2389 - val_loss: 0.2439\n",
            "Epoch 45/50\n",
            "38/38 [==============================] - 1s 14ms/step - loss: 0.2387 - val_loss: 0.2442\n",
            "Epoch 46/50\n",
            "38/38 [==============================] - 0s 13ms/step - loss: 0.2387 - val_loss: 0.2436\n",
            "Epoch 47/50\n",
            "38/38 [==============================] - 1s 14ms/step - loss: 0.2383 - val_loss: 0.2437\n",
            "Epoch 48/50\n",
            "38/38 [==============================] - 1s 15ms/step - loss: 0.2385 - val_loss: 0.2434\n",
            "Epoch 49/50\n",
            "38/38 [==============================] - 1s 15ms/step - loss: 0.2382 - val_loss: 0.2431\n",
            "Epoch 50/50\n",
            "38/38 [==============================] - 1s 16ms/step - loss: 0.2379 - val_loss: 0.2430\n"
          ]
        },
        {
          "output_type": "execute_result",
          "data": {
            "text/plain": [
              "<keras.src.callbacks.History at 0x7d3ee5d51b10>"
            ]
          },
          "metadata": {},
          "execution_count": 111
        }
      ]
    },
    {
      "cell_type": "code",
      "source": [
        "# Train Modified Autoencoder\n",
        "modified_autoencoder = build_modified_autoencoder()\n",
        "modified_autoencoder.fit(x_train, x_train,\n",
        "                         epochs=100,\n",
        "                         batch_size=256,\n",
        "                         validation_data=(x_val, x_val))"
      ],
      "metadata": {
        "id": "Vxo0N-9INkWP",
        "colab": {
          "base_uri": "https://localhost:8080/"
        },
        "outputId": "f964b4a7-ccda-4b6e-97e5-1af41c5f749f"
      },
      "execution_count": 112,
      "outputs": [
        {
          "output_type": "stream",
          "name": "stdout",
          "text": [
            "Model: \"encoder_model\"\n",
            "_________________________________________________________________\n",
            " Layer (type)                Output Shape              Param #   \n",
            "=================================================================\n",
            " input_17 (InputLayer)       [(None, 28, 28, 1)]       0         \n",
            "                                                                 \n",
            " conv2d_25 (Conv2D)          (None, 28, 28, 64)        640       \n",
            "                                                                 \n",
            " max_pooling2d_14 (MaxPooli  (None, 14, 14, 64)        0         \n",
            " ng2D)                                                           \n",
            "                                                                 \n",
            " conv2d_26 (Conv2D)          (None, 14, 14, 128)       73856     \n",
            "                                                                 \n",
            " max_pooling2d_15 (MaxPooli  (None, 7, 7, 128)         0         \n",
            " ng2D)                                                           \n",
            "                                                                 \n",
            " conv2d_27 (Conv2D)          (None, 7, 7, 256)         295168    \n",
            "                                                                 \n",
            " flatten_8 (Flatten)         (None, 12544)             0         \n",
            "                                                                 \n",
            " latent_space (Dense)        (None, 256)               3211520   \n",
            "                                                                 \n",
            "=================================================================\n",
            "Total params: 3581184 (13.66 MB)\n",
            "Trainable params: 3581184 (13.66 MB)\n",
            "Non-trainable params: 0 (0.00 Byte)\n",
            "_________________________________________________________________\n",
            "Model: \"decoder_model\"\n",
            "_________________________________________________________________\n",
            " Layer (type)                Output Shape              Param #   \n",
            "=================================================================\n",
            " input_18 (InputLayer)       [(None, 256)]             0         \n",
            "                                                                 \n",
            " dense_24 (Dense)            (None, 256)               65792     \n",
            "                                                                 \n",
            " dense_25 (Dense)            (None, 6272)              1611904   \n",
            "                                                                 \n",
            " reshape_8 (Reshape)         (None, 7, 7, 128)         0         \n",
            "                                                                 \n",
            " conv2d_transpose_23 (Conv2  (None, 7, 7, 128)         147584    \n",
            " DTranspose)                                                     \n",
            "                                                                 \n",
            " up_sampling2d_14 (UpSampli  (None, 14, 14, 128)       0         \n",
            " ng2D)                                                           \n",
            "                                                                 \n",
            " conv2d_transpose_24 (Conv2  (None, 14, 14, 64)        73792     \n",
            " DTranspose)                                                     \n",
            "                                                                 \n",
            " up_sampling2d_15 (UpSampli  (None, 28, 28, 64)        0         \n",
            " ng2D)                                                           \n",
            "                                                                 \n",
            " conv2d_transpose_25 (Conv2  (None, 28, 28, 32)        18464     \n",
            " DTranspose)                                                     \n",
            "                                                                 \n",
            " conv2d_28 (Conv2D)          (None, 28, 28, 1)         289       \n",
            "                                                                 \n",
            "=================================================================\n",
            "Total params: 1917825 (7.32 MB)\n",
            "Trainable params: 1917825 (7.32 MB)\n",
            "Non-trainable params: 0 (0.00 Byte)\n",
            "_________________________________________________________________\n",
            "Model: \"autoencoder_model\"\n",
            "_________________________________________________________________\n",
            " Layer (type)                Output Shape              Param #   \n",
            "=================================================================\n",
            " input_17 (InputLayer)       [(None, 28, 28, 1)]       0         \n",
            "                                                                 \n",
            " encoder_model (Functional)  (None, 256)               3581184   \n",
            "                                                                 \n",
            " decoder_model (Functional)  (None, 28, 28, 1)         1917825   \n",
            "                                                                 \n",
            "=================================================================\n",
            "Total params: 5499009 (20.98 MB)\n",
            "Trainable params: 5499009 (20.98 MB)\n",
            "Non-trainable params: 0 (0.00 Byte)\n",
            "_________________________________________________________________\n",
            "Epoch 1/100\n",
            "38/38 [==============================] - 5s 45ms/step - loss: 0.4525 - val_loss: 0.3549\n",
            "Epoch 2/100\n",
            "38/38 [==============================] - 1s 38ms/step - loss: 0.3322 - val_loss: 0.3184\n",
            "Epoch 3/100\n",
            "38/38 [==============================] - 1s 38ms/step - loss: 0.3053 - val_loss: 0.3002\n",
            "Epoch 4/100\n",
            "38/38 [==============================] - 1s 38ms/step - loss: 0.2935 - val_loss: 0.2894\n",
            "Epoch 5/100\n",
            "38/38 [==============================] - 1s 38ms/step - loss: 0.2837 - val_loss: 0.2828\n",
            "Epoch 6/100\n",
            "38/38 [==============================] - 1s 39ms/step - loss: 0.2784 - val_loss: 0.2803\n",
            "Epoch 7/100\n",
            "38/38 [==============================] - 2s 40ms/step - loss: 0.2758 - val_loss: 0.2772\n",
            "Epoch 8/100\n",
            "38/38 [==============================] - 1s 38ms/step - loss: 0.2715 - val_loss: 0.2725\n",
            "Epoch 9/100\n",
            "38/38 [==============================] - 1s 38ms/step - loss: 0.2688 - val_loss: 0.2733\n",
            "Epoch 10/100\n",
            "38/38 [==============================] - 1s 38ms/step - loss: 0.2654 - val_loss: 0.2733\n",
            "Epoch 11/100\n",
            "38/38 [==============================] - 1s 38ms/step - loss: 0.2640 - val_loss: 0.2645\n",
            "Epoch 12/100\n",
            "38/38 [==============================] - 1s 38ms/step - loss: 0.2608 - val_loss: 0.2629\n",
            "Epoch 13/100\n",
            "38/38 [==============================] - 1s 38ms/step - loss: 0.2590 - val_loss: 0.2614\n",
            "Epoch 14/100\n",
            "38/38 [==============================] - 1s 39ms/step - loss: 0.2571 - val_loss: 0.2597\n",
            "Epoch 15/100\n",
            "38/38 [==============================] - 1s 39ms/step - loss: 0.2558 - val_loss: 0.2591\n",
            "Epoch 16/100\n",
            "38/38 [==============================] - 2s 43ms/step - loss: 0.2549 - val_loss: 0.2576\n",
            "Epoch 17/100\n",
            "38/38 [==============================] - 1s 38ms/step - loss: 0.2538 - val_loss: 0.2568\n",
            "Epoch 18/100\n",
            "38/38 [==============================] - 1s 38ms/step - loss: 0.2524 - val_loss: 0.2549\n",
            "Epoch 19/100\n",
            "38/38 [==============================] - 1s 38ms/step - loss: 0.2521 - val_loss: 0.2545\n",
            "Epoch 20/100\n",
            "38/38 [==============================] - 1s 38ms/step - loss: 0.2512 - val_loss: 0.2549\n",
            "Epoch 21/100\n",
            "38/38 [==============================] - 1s 38ms/step - loss: 0.2498 - val_loss: 0.2534\n",
            "Epoch 22/100\n",
            "38/38 [==============================] - 1s 39ms/step - loss: 0.2492 - val_loss: 0.2525\n",
            "Epoch 23/100\n",
            "38/38 [==============================] - 1s 39ms/step - loss: 0.2481 - val_loss: 0.2519\n",
            "Epoch 24/100\n",
            "38/38 [==============================] - 2s 40ms/step - loss: 0.2482 - val_loss: 0.2515\n",
            "Epoch 25/100\n",
            "38/38 [==============================] - 1s 40ms/step - loss: 0.2471 - val_loss: 0.2510\n",
            "Epoch 26/100\n",
            "38/38 [==============================] - 1s 38ms/step - loss: 0.2468 - val_loss: 0.2509\n",
            "Epoch 27/100\n",
            "38/38 [==============================] - 1s 38ms/step - loss: 0.2460 - val_loss: 0.2505\n",
            "Epoch 28/100\n",
            "38/38 [==============================] - 1s 38ms/step - loss: 0.2463 - val_loss: 0.2513\n",
            "Epoch 29/100\n",
            "38/38 [==============================] - 1s 38ms/step - loss: 0.2455 - val_loss: 0.2501\n",
            "Epoch 30/100\n",
            "38/38 [==============================] - 1s 39ms/step - loss: 0.2448 - val_loss: 0.2507\n",
            "Epoch 31/100\n",
            "38/38 [==============================] - 1s 38ms/step - loss: 0.2453 - val_loss: 0.2493\n",
            "Epoch 32/100\n",
            "38/38 [==============================] - 1s 39ms/step - loss: 0.2436 - val_loss: 0.2485\n",
            "Epoch 33/100\n",
            "38/38 [==============================] - 2s 40ms/step - loss: 0.2443 - val_loss: 0.2485\n",
            "Epoch 34/100\n",
            "38/38 [==============================] - 1s 39ms/step - loss: 0.2430 - val_loss: 0.2479\n",
            "Epoch 35/100\n",
            "38/38 [==============================] - 1s 38ms/step - loss: 0.2424 - val_loss: 0.2479\n",
            "Epoch 36/100\n",
            "38/38 [==============================] - 1s 38ms/step - loss: 0.2430 - val_loss: 0.2479\n",
            "Epoch 37/100\n",
            "38/38 [==============================] - 1s 38ms/step - loss: 0.2420 - val_loss: 0.2494\n",
            "Epoch 38/100\n",
            "38/38 [==============================] - 1s 39ms/step - loss: 0.2424 - val_loss: 0.2476\n",
            "Epoch 39/100\n",
            "38/38 [==============================] - 1s 38ms/step - loss: 0.2418 - val_loss: 0.2469\n",
            "Epoch 40/100\n",
            "38/38 [==============================] - 1s 38ms/step - loss: 0.2411 - val_loss: 0.2476\n",
            "Epoch 41/100\n",
            "38/38 [==============================] - 1s 39ms/step - loss: 0.2413 - val_loss: 0.2474\n",
            "Epoch 42/100\n",
            "38/38 [==============================] - 2s 40ms/step - loss: 0.2405 - val_loss: 0.2467\n",
            "Epoch 43/100\n",
            "38/38 [==============================] - 1s 39ms/step - loss: 0.2410 - val_loss: 0.2481\n",
            "Epoch 44/100\n",
            "38/38 [==============================] - 1s 38ms/step - loss: 0.2405 - val_loss: 0.2458\n",
            "Epoch 45/100\n",
            "38/38 [==============================] - 1s 38ms/step - loss: 0.2401 - val_loss: 0.2471\n",
            "Epoch 46/100\n",
            "38/38 [==============================] - 2s 42ms/step - loss: 0.2395 - val_loss: 0.2464\n",
            "Epoch 47/100\n",
            "38/38 [==============================] - 1s 39ms/step - loss: 0.2399 - val_loss: 0.2455\n",
            "Epoch 48/100\n",
            "38/38 [==============================] - 1s 38ms/step - loss: 0.2392 - val_loss: 0.2457\n",
            "Epoch 49/100\n",
            "38/38 [==============================] - 1s 38ms/step - loss: 0.2391 - val_loss: 0.2455\n",
            "Epoch 50/100\n",
            "38/38 [==============================] - 2s 40ms/step - loss: 0.2390 - val_loss: 0.2462\n",
            "Epoch 51/100\n",
            "38/38 [==============================] - 2s 48ms/step - loss: 0.2387 - val_loss: 0.2452\n",
            "Epoch 52/100\n",
            "38/38 [==============================] - 1s 39ms/step - loss: 0.2387 - val_loss: 0.2450\n",
            "Epoch 53/100\n",
            "38/38 [==============================] - 1s 38ms/step - loss: 0.2385 - val_loss: 0.2451\n",
            "Epoch 54/100\n",
            "38/38 [==============================] - 1s 39ms/step - loss: 0.2382 - val_loss: 0.2446\n",
            "Epoch 55/100\n",
            "38/38 [==============================] - 1s 38ms/step - loss: 0.2382 - val_loss: 0.2445\n",
            "Epoch 56/100\n",
            "38/38 [==============================] - 1s 38ms/step - loss: 0.2376 - val_loss: 0.2447\n",
            "Epoch 57/100\n",
            "38/38 [==============================] - 1s 38ms/step - loss: 0.2380 - val_loss: 0.2445\n",
            "Epoch 58/100\n",
            "38/38 [==============================] - 2s 41ms/step - loss: 0.2377 - val_loss: 0.2451\n",
            "Epoch 59/100\n",
            "38/38 [==============================] - 2s 40ms/step - loss: 0.2373 - val_loss: 0.2450\n",
            "Epoch 60/100\n",
            "38/38 [==============================] - 1s 39ms/step - loss: 0.2371 - val_loss: 0.2446\n",
            "Epoch 61/100\n",
            "38/38 [==============================] - 1s 38ms/step - loss: 0.2372 - val_loss: 0.2441\n",
            "Epoch 62/100\n",
            "38/38 [==============================] - 1s 38ms/step - loss: 0.2370 - val_loss: 0.2443\n",
            "Epoch 63/100\n",
            "38/38 [==============================] - 1s 38ms/step - loss: 0.2366 - val_loss: 0.2444\n",
            "Epoch 64/100\n",
            "38/38 [==============================] - 1s 38ms/step - loss: 0.2375 - val_loss: 0.2446\n",
            "Epoch 65/100\n",
            "38/38 [==============================] - 1s 38ms/step - loss: 0.2369 - val_loss: 0.2445\n",
            "Epoch 66/100\n",
            "38/38 [==============================] - 1s 38ms/step - loss: 0.2361 - val_loss: 0.2441\n",
            "Epoch 67/100\n",
            "38/38 [==============================] - 1s 39ms/step - loss: 0.2360 - val_loss: 0.2435\n",
            "Epoch 68/100\n",
            "38/38 [==============================] - 2s 40ms/step - loss: 0.2357 - val_loss: 0.2443\n",
            "Epoch 69/100\n",
            "38/38 [==============================] - 2s 48ms/step - loss: 0.2365 - val_loss: 0.2456\n",
            "Epoch 70/100\n",
            "38/38 [==============================] - 2s 40ms/step - loss: 0.2366 - val_loss: 0.2437\n",
            "Epoch 71/100\n",
            "38/38 [==============================] - 1s 38ms/step - loss: 0.2356 - val_loss: 0.2433\n",
            "Epoch 72/100\n",
            "38/38 [==============================] - 1s 39ms/step - loss: 0.2354 - val_loss: 0.2436\n",
            "Epoch 73/100\n",
            "38/38 [==============================] - 1s 38ms/step - loss: 0.2356 - val_loss: 0.2443\n",
            "Epoch 74/100\n",
            "38/38 [==============================] - 1s 38ms/step - loss: 0.2352 - val_loss: 0.2430\n",
            "Epoch 75/100\n",
            "38/38 [==============================] - 1s 38ms/step - loss: 0.2351 - val_loss: 0.2440\n",
            "Epoch 76/100\n",
            "38/38 [==============================] - 1s 39ms/step - loss: 0.2350 - val_loss: 0.2434\n",
            "Epoch 77/100\n",
            "38/38 [==============================] - 2s 42ms/step - loss: 0.2346 - val_loss: 0.2437\n",
            "Epoch 78/100\n",
            "38/38 [==============================] - 1s 38ms/step - loss: 0.2347 - val_loss: 0.2433\n",
            "Epoch 79/100\n",
            "38/38 [==============================] - 1s 39ms/step - loss: 0.2349 - val_loss: 0.2450\n",
            "Epoch 80/100\n",
            "38/38 [==============================] - 1s 38ms/step - loss: 0.2351 - val_loss: 0.2430\n",
            "Epoch 81/100\n",
            "38/38 [==============================] - 1s 38ms/step - loss: 0.2343 - val_loss: 0.2431\n",
            "Epoch 82/100\n",
            "38/38 [==============================] - 1s 38ms/step - loss: 0.2340 - val_loss: 0.2431\n",
            "Epoch 83/100\n",
            "38/38 [==============================] - 1s 38ms/step - loss: 0.2343 - val_loss: 0.2428\n",
            "Epoch 84/100\n",
            "38/38 [==============================] - 1s 38ms/step - loss: 0.2341 - val_loss: 0.2433\n",
            "Epoch 85/100\n",
            "38/38 [==============================] - 2s 40ms/step - loss: 0.2342 - val_loss: 0.2430\n",
            "Epoch 86/100\n",
            "38/38 [==============================] - 2s 40ms/step - loss: 0.2343 - val_loss: 0.2432\n",
            "Epoch 87/100\n",
            "38/38 [==============================] - 1s 39ms/step - loss: 0.2341 - val_loss: 0.2430\n",
            "Epoch 88/100\n",
            "38/38 [==============================] - 1s 38ms/step - loss: 0.2343 - val_loss: 0.2451\n",
            "Epoch 89/100\n",
            "38/38 [==============================] - 1s 38ms/step - loss: 0.2343 - val_loss: 0.2431\n",
            "Epoch 90/100\n",
            "38/38 [==============================] - 1s 38ms/step - loss: 0.2336 - val_loss: 0.2427\n",
            "Epoch 91/100\n",
            "38/38 [==============================] - 1s 39ms/step - loss: 0.2332 - val_loss: 0.2424\n",
            "Epoch 92/100\n",
            "38/38 [==============================] - 1s 38ms/step - loss: 0.2336 - val_loss: 0.2429\n",
            "Epoch 93/100\n",
            "38/38 [==============================] - 1s 38ms/step - loss: 0.2335 - val_loss: 0.2430\n",
            "Epoch 94/100\n",
            "38/38 [==============================] - 2s 40ms/step - loss: 0.2332 - val_loss: 0.2425\n",
            "Epoch 95/100\n",
            "38/38 [==============================] - 2s 40ms/step - loss: 0.2331 - val_loss: 0.2427\n",
            "Epoch 96/100\n",
            "38/38 [==============================] - 2s 43ms/step - loss: 0.2332 - val_loss: 0.2427\n",
            "Epoch 97/100\n",
            "38/38 [==============================] - 1s 38ms/step - loss: 0.2331 - val_loss: 0.2434\n",
            "Epoch 98/100\n",
            "38/38 [==============================] - 1s 38ms/step - loss: 0.2328 - val_loss: 0.2423\n",
            "Epoch 99/100\n",
            "38/38 [==============================] - 1s 38ms/step - loss: 0.2329 - val_loss: 0.2425\n",
            "Epoch 100/100\n",
            "38/38 [==============================] - 1s 38ms/step - loss: 0.2330 - val_loss: 0.2433\n"
          ]
        },
        {
          "output_type": "execute_result",
          "data": {
            "text/plain": [
              "<keras.src.callbacks.History at 0x7d3f6a52bcd0>"
            ]
          },
          "metadata": {},
          "execution_count": 112
        }
      ]
    },
    {
      "cell_type": "code",
      "source": [
        "# Evaluasi model pada train set\n",
        "baseline_train_loss = baseline_autoencoder.evaluate(x_train, x_train)\n",
        "modified_train_loss = modified_autoencoder.evaluate(x_train, x_train)\n",
        "print(f\"Baseline Train loss: {baseline_train_loss}\")\n",
        "print(f\"Modified Trainn loss: {modified_train_loss}\")"
      ],
      "metadata": {
        "id": "zwZzWJvXNmcz",
        "colab": {
          "base_uri": "https://localhost:8080/"
        },
        "outputId": "6d5fc7a2-82ae-467f-a02c-a82a3c38fe19"
      },
      "execution_count": 113,
      "outputs": [
        {
          "output_type": "stream",
          "name": "stdout",
          "text": [
            "300/300 [==============================] - 1s 3ms/step - loss: 0.2377\n",
            "300/300 [==============================] - 1s 4ms/step - loss: 0.2330\n",
            "Baseline Train loss: 0.23766906559467316\n",
            "Modified Trainn loss: 0.23304466903209686\n"
          ]
        }
      ]
    },
    {
      "cell_type": "code",
      "source": [
        "# Evaluasi model pada test set\n",
        "baseline_test_loss = baseline_autoencoder.evaluate(x_test, x_test)\n",
        "modified_test_loss = modified_autoencoder.evaluate(x_test, x_test)\n",
        "print(f\"Baseline Test loss: {baseline_test_loss}\")\n",
        "print(f\"Modified Test loss: {modified_test_loss}\")"
      ],
      "metadata": {
        "id": "rLDxNNpANpGH",
        "colab": {
          "base_uri": "https://localhost:8080/"
        },
        "outputId": "4814d1e1-ba02-4b35-c298-bfd45d4ed22b"
      },
      "execution_count": 114,
      "outputs": [
        {
          "output_type": "stream",
          "name": "stdout",
          "text": [
            "38/38 [==============================] - 0s 3ms/step - loss: 0.2406\n",
            "38/38 [==============================] - 0s 4ms/step - loss: 0.2410\n",
            "Baseline Test loss: 0.24059425294399261\n",
            "Modified Test loss: 0.24098938703536987\n"
          ]
        }
      ]
    },
    {
      "cell_type": "markdown",
      "source": [
        "Tuning Hyperparamter"
      ],
      "metadata": {
        "id": "9B0ObF0raPHh"
      }
    },
    {
      "cell_type": "code",
      "source": [
        "def autoencoder_model(hp):\n",
        "  # Hyperparameters\n",
        "    learning_rate = hp.Choice('learning_rate', [1e-2, 1e-3, 1e-4])\n",
        "    dropout_rate = hp.Choice('dropout_rate', [0.1, 0.2, 0.3])\n",
        "\n",
        "    # Encoder\n",
        "    encoder_input = layers.Input(shape=(28, 28, 1))\n",
        "    x = layers.Conv2D(32, (3, 3), activation='relu', padding='same')(encoder_input)\n",
        "    x = layers.MaxPooling2D((2, 2), padding='same')(x)\n",
        "    x = layers.Conv2D(64, (3, 3), activation='relu', padding='same')(x)\n",
        "    x = layers.MaxPooling2D((2, 2), padding='same')(x)\n",
        "    x = layers.Conv2D(128, (3, 3), activation='relu', padding='same')(x)\n",
        "    x = layers.Flatten()(x)\n",
        "    x = layers.Dense(256, activation='relu')(x)\n",
        "    x = layers.Dropout(dropout_rate)(x)\n",
        "    encoder_output = layers.Dense(128, activation='relu')(x)\n",
        "\n",
        "    encoder = models.Model(encoder_input, encoder_output, name='encoder')\n",
        "\n",
        "    # Decoder\n",
        "    decoder_input = layers.Input(shape=(128,))\n",
        "    x = layers.Dense(256, activation='relu')(decoder_input)\n",
        "    x = layers.Dense(7 * 7 * 128, activation='relu')(x)\n",
        "    x = layers.Reshape((7, 7, 128))(x)\n",
        "    x = layers.Conv2DTranspose(128, (3, 3), activation='relu', padding='same')(x)\n",
        "    x = layers.UpSampling2D((2, 2))(x)\n",
        "    x = layers.Conv2DTranspose(64, (3, 3), activation='relu', padding='same')(x)\n",
        "    x = layers.UpSampling2D((2, 2))(x)\n",
        "    x = layers.Conv2DTranspose(32, (3, 3), activation='relu', padding='same')(x)\n",
        "    decoder_output = layers.Conv2DTranspose(1, (3, 3), activation='sigmoid', padding='same')(x)\n",
        "\n",
        "    decoder = models.Model(decoder_input, decoder_output, name='decoder')\n",
        "\n",
        "    # Autoencoder\n",
        "    autoencoder_input = encoder_input\n",
        "    encoded_img = encoder(autoencoder_input)\n",
        "    decoded_img = decoder(encoded_img)\n",
        "\n",
        "    autoencoder = models.Model(autoencoder_input, decoded_img, name='autoencoder')\n",
        "\n",
        "    # Compile the model\n",
        "    autoencoder.compile(optimizer=tf.keras.optimizers.Adam(learning_rate=learning_rate), loss='binary_crossentropy')\n",
        "    return autoencoder"
      ],
      "metadata": {
        "id": "O6EKXmcXaOmD"
      },
      "execution_count": 115,
      "outputs": []
    },
    {
      "cell_type": "code",
      "source": [
        "# Hyperparameter tuner\n",
        "tuner = kt.Hyperband(autoencoder_model,\n",
        "                     objective='val_loss',\n",
        "                     max_epochs=150,\n",
        "                     factor=3,\n",
        "                     directory='hyperband_dir',\n",
        "                     project_name='autoencoder_tuning')"
      ],
      "metadata": {
        "colab": {
          "base_uri": "https://localhost:8080/"
        },
        "id": "t9iU_9jqazMg",
        "outputId": "1990be2c-58a7-41d2-ea8b-38dc9a96eefd"
      },
      "execution_count": 116,
      "outputs": [
        {
          "output_type": "stream",
          "name": "stdout",
          "text": [
            "Reloading Tuner from hyperband_dir/autoencoder_tuning/tuner0.json\n"
          ]
        }
      ]
    },
    {
      "cell_type": "code",
      "source": [
        "# Perform the hyperparameter search\n",
        "tuner.search(x_train, x_train,\n",
        "             epochs=150,\n",
        "             validation_data=(x_val, x_val))"
      ],
      "metadata": {
        "id": "JU4wn0Zza1-C"
      },
      "execution_count": 117,
      "outputs": []
    },
    {
      "cell_type": "code",
      "source": [
        "# Get the optimal hyperparameters\n",
        "best_hps = tuner.get_best_hyperparameters(num_trials=1)[0]\n",
        "print(f\"Optimal learning rate: {best_hps.get('learning_rate')}\")\n",
        "print(f\"Optimal dropout rate: {best_hps.get('dropout_rate')}\")"
      ],
      "metadata": {
        "colab": {
          "base_uri": "https://localhost:8080/"
        },
        "id": "jm83SbLLbcMD",
        "outputId": "f4bbbf7a-1809-403e-d690-85f08507fd96"
      },
      "execution_count": 118,
      "outputs": [
        {
          "output_type": "stream",
          "name": "stdout",
          "text": [
            "Optimal learning rate: 0.001\n",
            "Optimal dropout rate: 0.1\n"
          ]
        }
      ]
    },
    {
      "cell_type": "code",
      "source": [
        "  # Build the model with the optimal hyperparameters and train it\n",
        "best_model = tuner.hypermodel.build(best_hps)\n",
        "history = best_model.fit(x_train, x_train,\n",
        "                         epochs=150,\n",
        "                         batch_size=256,\n",
        "                         validation_data=(x_val, x_val))"
      ],
      "metadata": {
        "colab": {
          "base_uri": "https://localhost:8080/"
        },
        "id": "lkaoQuo4bRJT",
        "outputId": "b5f52589-9edd-4cfa-f37d-bd16c5f282ad"
      },
      "execution_count": 119,
      "outputs": [
        {
          "output_type": "stream",
          "name": "stdout",
          "text": [
            "Epoch 1/150\n",
            "38/38 [==============================] - 4s 38ms/step - loss: 0.4569 - val_loss: 0.3580\n",
            "Epoch 2/150\n",
            "38/38 [==============================] - 1s 31ms/step - loss: 0.3364 - val_loss: 0.3151\n",
            "Epoch 3/150\n",
            "38/38 [==============================] - 1s 31ms/step - loss: 0.3089 - val_loss: 0.3019\n",
            "Epoch 4/150\n",
            "38/38 [==============================] - 1s 33ms/step - loss: 0.2974 - val_loss: 0.2954\n",
            "Epoch 5/150\n",
            "38/38 [==============================] - 1s 32ms/step - loss: 0.2897 - val_loss: 0.2858\n",
            "Epoch 6/150\n",
            "38/38 [==============================] - 1s 32ms/step - loss: 0.2833 - val_loss: 0.2817\n",
            "Epoch 7/150\n",
            "38/38 [==============================] - 1s 30ms/step - loss: 0.2799 - val_loss: 0.2779\n",
            "Epoch 8/150\n",
            "38/38 [==============================] - 1s 30ms/step - loss: 0.2768 - val_loss: 0.2751\n",
            "Epoch 9/150\n",
            "38/38 [==============================] - 1s 30ms/step - loss: 0.2742 - val_loss: 0.2767\n",
            "Epoch 10/150\n",
            "38/38 [==============================] - 1s 31ms/step - loss: 0.2720 - val_loss: 0.2755\n",
            "Epoch 11/150\n",
            "38/38 [==============================] - 1s 31ms/step - loss: 0.2706 - val_loss: 0.2706\n",
            "Epoch 12/150\n",
            "38/38 [==============================] - 1s 31ms/step - loss: 0.2689 - val_loss: 0.2683\n",
            "Epoch 13/150\n",
            "38/38 [==============================] - 1s 31ms/step - loss: 0.2664 - val_loss: 0.2659\n",
            "Epoch 14/150\n",
            "38/38 [==============================] - 1s 31ms/step - loss: 0.2661 - val_loss: 0.2647\n",
            "Epoch 15/150\n",
            "38/38 [==============================] - 1s 33ms/step - loss: 0.2642 - val_loss: 0.2646\n",
            "Epoch 16/150\n",
            "38/38 [==============================] - 1s 33ms/step - loss: 0.2627 - val_loss: 0.2627\n",
            "Epoch 17/150\n",
            "38/38 [==============================] - 1s 31ms/step - loss: 0.2616 - val_loss: 0.2618\n",
            "Epoch 18/150\n",
            "38/38 [==============================] - 1s 31ms/step - loss: 0.2609 - val_loss: 0.2623\n",
            "Epoch 19/150\n",
            "38/38 [==============================] - 1s 31ms/step - loss: 0.2600 - val_loss: 0.2602\n",
            "Epoch 20/150\n",
            "38/38 [==============================] - 1s 31ms/step - loss: 0.2598 - val_loss: 0.2601\n",
            "Epoch 21/150\n",
            "38/38 [==============================] - 1s 31ms/step - loss: 0.2588 - val_loss: 0.2599\n",
            "Epoch 22/150\n",
            "38/38 [==============================] - 1s 31ms/step - loss: 0.2580 - val_loss: 0.2586\n",
            "Epoch 23/150\n",
            "38/38 [==============================] - 1s 31ms/step - loss: 0.2574 - val_loss: 0.2579\n",
            "Epoch 24/150\n",
            "38/38 [==============================] - 1s 31ms/step - loss: 0.2573 - val_loss: 0.2579\n",
            "Epoch 25/150\n",
            "38/38 [==============================] - 1s 32ms/step - loss: 0.2566 - val_loss: 0.2570\n",
            "Epoch 26/150\n",
            "38/38 [==============================] - 1s 33ms/step - loss: 0.2560 - val_loss: 0.2574\n",
            "Epoch 27/150\n",
            "38/38 [==============================] - 1s 32ms/step - loss: 0.2558 - val_loss: 0.2571\n",
            "Epoch 28/150\n",
            "38/38 [==============================] - 1s 31ms/step - loss: 0.2548 - val_loss: 0.2556\n",
            "Epoch 29/150\n",
            "38/38 [==============================] - 1s 31ms/step - loss: 0.2546 - val_loss: 0.2558\n",
            "Epoch 30/150\n",
            "38/38 [==============================] - 1s 31ms/step - loss: 0.2546 - val_loss: 0.2557\n",
            "Epoch 31/150\n",
            "38/38 [==============================] - 1s 30ms/step - loss: 0.2539 - val_loss: 0.2562\n",
            "Epoch 32/150\n",
            "38/38 [==============================] - 1s 30ms/step - loss: 0.2537 - val_loss: 0.2548\n",
            "Epoch 33/150\n",
            "38/38 [==============================] - 1s 31ms/step - loss: 0.2533 - val_loss: 0.2557\n",
            "Epoch 34/150\n",
            "38/38 [==============================] - 1s 30ms/step - loss: 0.2533 - val_loss: 0.2544\n",
            "Epoch 35/150\n",
            "38/38 [==============================] - 1s 30ms/step - loss: 0.2526 - val_loss: 0.2539\n",
            "Epoch 36/150\n",
            "38/38 [==============================] - 1s 32ms/step - loss: 0.2521 - val_loss: 0.2540\n",
            "Epoch 37/150\n",
            "38/38 [==============================] - 1s 32ms/step - loss: 0.2517 - val_loss: 0.2544\n",
            "Epoch 38/150\n",
            "38/38 [==============================] - 1s 31ms/step - loss: 0.2520 - val_loss: 0.2546\n",
            "Epoch 39/150\n",
            "38/38 [==============================] - 1s 30ms/step - loss: 0.2515 - val_loss: 0.2533\n",
            "Epoch 40/150\n",
            "38/38 [==============================] - 1s 31ms/step - loss: 0.2511 - val_loss: 0.2530\n",
            "Epoch 41/150\n",
            "38/38 [==============================] - 1s 31ms/step - loss: 0.2509 - val_loss: 0.2528\n",
            "Epoch 42/150\n",
            "38/38 [==============================] - 1s 31ms/step - loss: 0.2505 - val_loss: 0.2532\n",
            "Epoch 43/150\n",
            "38/38 [==============================] - 1s 30ms/step - loss: 0.2503 - val_loss: 0.2536\n",
            "Epoch 44/150\n",
            "38/38 [==============================] - 1s 30ms/step - loss: 0.2499 - val_loss: 0.2520\n",
            "Epoch 45/150\n",
            "38/38 [==============================] - 1s 31ms/step - loss: 0.2498 - val_loss: 0.2525\n",
            "Epoch 46/150\n",
            "38/38 [==============================] - 1s 31ms/step - loss: 0.2497 - val_loss: 0.2533\n",
            "Epoch 47/150\n",
            "38/38 [==============================] - 2s 43ms/step - loss: 0.2497 - val_loss: 0.2542\n",
            "Epoch 48/150\n",
            "38/38 [==============================] - 2s 46ms/step - loss: 0.2494 - val_loss: 0.2536\n",
            "Epoch 49/150\n",
            "38/38 [==============================] - 1s 38ms/step - loss: 0.2488 - val_loss: 0.2514\n",
            "Epoch 50/150\n",
            "38/38 [==============================] - 1s 34ms/step - loss: 0.2485 - val_loss: 0.2512\n",
            "Epoch 51/150\n",
            "38/38 [==============================] - 1s 31ms/step - loss: 0.2485 - val_loss: 0.2513\n",
            "Epoch 52/150\n",
            "38/38 [==============================] - 1s 31ms/step - loss: 0.2486 - val_loss: 0.2516\n",
            "Epoch 53/150\n",
            "38/38 [==============================] - 1s 31ms/step - loss: 0.2481 - val_loss: 0.2517\n",
            "Epoch 54/150\n",
            "38/38 [==============================] - 1s 31ms/step - loss: 0.2481 - val_loss: 0.2519\n",
            "Epoch 55/150\n",
            "38/38 [==============================] - 1s 30ms/step - loss: 0.2477 - val_loss: 0.2507\n",
            "Epoch 56/150\n",
            "38/38 [==============================] - 1s 30ms/step - loss: 0.2480 - val_loss: 0.2510\n",
            "Epoch 57/150\n",
            "38/38 [==============================] - 1s 32ms/step - loss: 0.2476 - val_loss: 0.2501\n",
            "Epoch 58/150\n",
            "38/38 [==============================] - 1s 32ms/step - loss: 0.2473 - val_loss: 0.2504\n",
            "Epoch 59/150\n",
            "38/38 [==============================] - 1s 31ms/step - loss: 0.2474 - val_loss: 0.2524\n",
            "Epoch 60/150\n",
            "38/38 [==============================] - 1s 30ms/step - loss: 0.2468 - val_loss: 0.2509\n",
            "Epoch 61/150\n",
            "38/38 [==============================] - 1s 30ms/step - loss: 0.2470 - val_loss: 0.2513\n",
            "Epoch 62/150\n",
            "38/38 [==============================] - 1s 30ms/step - loss: 0.2476 - val_loss: 0.2520\n",
            "Epoch 63/150\n",
            "38/38 [==============================] - 1s 30ms/step - loss: 0.2466 - val_loss: 0.2505\n",
            "Epoch 64/150\n",
            "38/38 [==============================] - 1s 30ms/step - loss: 0.2462 - val_loss: 0.2515\n",
            "Epoch 65/150\n",
            "38/38 [==============================] - 1s 30ms/step - loss: 0.2461 - val_loss: 0.2500\n",
            "Epoch 66/150\n",
            "38/38 [==============================] - 1s 30ms/step - loss: 0.2464 - val_loss: 0.2500\n",
            "Epoch 67/150\n",
            "38/38 [==============================] - 1s 30ms/step - loss: 0.2461 - val_loss: 0.2503\n",
            "Epoch 68/150\n",
            "38/38 [==============================] - 1s 32ms/step - loss: 0.2459 - val_loss: 0.2515\n",
            "Epoch 69/150\n",
            "38/38 [==============================] - 1s 32ms/step - loss: 0.2458 - val_loss: 0.2507\n",
            "Epoch 70/150\n",
            "38/38 [==============================] - 1s 30ms/step - loss: 0.2456 - val_loss: 0.2496\n",
            "Epoch 71/150\n",
            "38/38 [==============================] - 1s 30ms/step - loss: 0.2454 - val_loss: 0.2502\n",
            "Epoch 72/150\n",
            "38/38 [==============================] - 1s 30ms/step - loss: 0.2453 - val_loss: 0.2495\n",
            "Epoch 73/150\n",
            "38/38 [==============================] - 1s 30ms/step - loss: 0.2452 - val_loss: 0.2496\n",
            "Epoch 74/150\n",
            "38/38 [==============================] - 1s 31ms/step - loss: 0.2453 - val_loss: 0.2510\n",
            "Epoch 75/150\n",
            "38/38 [==============================] - 1s 31ms/step - loss: 0.2453 - val_loss: 0.2514\n",
            "Epoch 76/150\n",
            "38/38 [==============================] - 1s 31ms/step - loss: 0.2450 - val_loss: 0.2497\n",
            "Epoch 77/150\n",
            "38/38 [==============================] - 1s 31ms/step - loss: 0.2450 - val_loss: 0.2516\n",
            "Epoch 78/150\n",
            "38/38 [==============================] - 1s 32ms/step - loss: 0.2450 - val_loss: 0.2499\n",
            "Epoch 79/150\n",
            "38/38 [==============================] - 1s 33ms/step - loss: 0.2448 - val_loss: 0.2496\n",
            "Epoch 80/150\n",
            "38/38 [==============================] - 1s 32ms/step - loss: 0.2447 - val_loss: 0.2500\n",
            "Epoch 81/150\n",
            "38/38 [==============================] - 1s 31ms/step - loss: 0.2443 - val_loss: 0.2494\n",
            "Epoch 82/150\n",
            "38/38 [==============================] - 1s 31ms/step - loss: 0.2446 - val_loss: 0.2498\n",
            "Epoch 83/150\n",
            "38/38 [==============================] - 1s 31ms/step - loss: 0.2442 - val_loss: 0.2499\n",
            "Epoch 84/150\n",
            "38/38 [==============================] - 1s 31ms/step - loss: 0.2443 - val_loss: 0.2520\n",
            "Epoch 85/150\n",
            "38/38 [==============================] - 1s 31ms/step - loss: 0.2447 - val_loss: 0.2513\n",
            "Epoch 86/150\n",
            "38/38 [==============================] - 1s 31ms/step - loss: 0.2441 - val_loss: 0.2496\n",
            "Epoch 87/150\n",
            "38/38 [==============================] - 1s 31ms/step - loss: 0.2440 - val_loss: 0.2501\n",
            "Epoch 88/150\n",
            "38/38 [==============================] - 1s 31ms/step - loss: 0.2437 - val_loss: 0.2492\n",
            "Epoch 89/150\n",
            "38/38 [==============================] - 1s 32ms/step - loss: 0.2437 - val_loss: 0.2490\n",
            "Epoch 90/150\n",
            "38/38 [==============================] - 1s 33ms/step - loss: 0.2433 - val_loss: 0.2490\n",
            "Epoch 91/150\n",
            "38/38 [==============================] - 1s 30ms/step - loss: 0.2433 - val_loss: 0.2508\n",
            "Epoch 92/150\n",
            "38/38 [==============================] - 1s 30ms/step - loss: 0.2433 - val_loss: 0.2498\n",
            "Epoch 93/150\n",
            "38/38 [==============================] - 1s 30ms/step - loss: 0.2430 - val_loss: 0.2502\n",
            "Epoch 94/150\n",
            "38/38 [==============================] - 1s 31ms/step - loss: 0.2431 - val_loss: 0.2497\n",
            "Epoch 95/150\n",
            "38/38 [==============================] - 1s 31ms/step - loss: 0.2431 - val_loss: 0.2495\n",
            "Epoch 96/150\n",
            "38/38 [==============================] - 1s 30ms/step - loss: 0.2433 - val_loss: 0.2500\n",
            "Epoch 97/150\n",
            "38/38 [==============================] - 1s 31ms/step - loss: 0.2432 - val_loss: 0.2489\n",
            "Epoch 98/150\n",
            "38/38 [==============================] - 1s 31ms/step - loss: 0.2432 - val_loss: 0.2506\n",
            "Epoch 99/150\n",
            "38/38 [==============================] - 1s 32ms/step - loss: 0.2428 - val_loss: 0.2499\n",
            "Epoch 100/150\n",
            "38/38 [==============================] - 1s 32ms/step - loss: 0.2430 - val_loss: 0.2493\n",
            "Epoch 101/150\n",
            "38/38 [==============================] - 1s 32ms/step - loss: 0.2426 - val_loss: 0.2490\n",
            "Epoch 102/150\n",
            "38/38 [==============================] - 1s 31ms/step - loss: 0.2427 - val_loss: 0.2492\n",
            "Epoch 103/150\n",
            "38/38 [==============================] - 1s 31ms/step - loss: 0.2423 - val_loss: 0.2493\n",
            "Epoch 104/150\n",
            "38/38 [==============================] - 1s 30ms/step - loss: 0.2423 - val_loss: 0.2487\n",
            "Epoch 105/150\n",
            "38/38 [==============================] - 1s 30ms/step - loss: 0.2420 - val_loss: 0.2490\n",
            "Epoch 106/150\n",
            "38/38 [==============================] - 1s 30ms/step - loss: 0.2422 - val_loss: 0.2487\n",
            "Epoch 107/150\n",
            "38/38 [==============================] - 1s 30ms/step - loss: 0.2422 - val_loss: 0.2486\n",
            "Epoch 108/150\n",
            "38/38 [==============================] - 1s 31ms/step - loss: 0.2422 - val_loss: 0.2496\n",
            "Epoch 109/150\n",
            "38/38 [==============================] - 1s 31ms/step - loss: 0.2419 - val_loss: 0.2490\n",
            "Epoch 110/150\n",
            "38/38 [==============================] - 1s 32ms/step - loss: 0.2420 - val_loss: 0.2495\n",
            "Epoch 111/150\n",
            "38/38 [==============================] - 1s 32ms/step - loss: 0.2418 - val_loss: 0.2489\n",
            "Epoch 112/150\n",
            "38/38 [==============================] - 1s 31ms/step - loss: 0.2416 - val_loss: 0.2493\n",
            "Epoch 113/150\n",
            "38/38 [==============================] - 1s 31ms/step - loss: 0.2416 - val_loss: 0.2488\n",
            "Epoch 114/150\n",
            "38/38 [==============================] - 1s 30ms/step - loss: 0.2416 - val_loss: 0.2493\n",
            "Epoch 115/150\n",
            "38/38 [==============================] - 1s 30ms/step - loss: 0.2414 - val_loss: 0.2493\n",
            "Epoch 116/150\n",
            "38/38 [==============================] - 1s 31ms/step - loss: 0.2415 - val_loss: 0.2488\n",
            "Epoch 117/150\n",
            "38/38 [==============================] - 1s 31ms/step - loss: 0.2413 - val_loss: 0.2493\n",
            "Epoch 118/150\n",
            "38/38 [==============================] - 1s 31ms/step - loss: 0.2412 - val_loss: 0.2495\n",
            "Epoch 119/150\n",
            "38/38 [==============================] - 1s 31ms/step - loss: 0.2410 - val_loss: 0.2486\n",
            "Epoch 120/150\n",
            "38/38 [==============================] - 1s 31ms/step - loss: 0.2411 - val_loss: 0.2489\n",
            "Epoch 121/150\n",
            "38/38 [==============================] - 1s 33ms/step - loss: 0.2411 - val_loss: 0.2490\n",
            "Epoch 122/150\n",
            "38/38 [==============================] - 1s 31ms/step - loss: 0.2411 - val_loss: 0.2495\n",
            "Epoch 123/150\n",
            "38/38 [==============================] - 1s 30ms/step - loss: 0.2409 - val_loss: 0.2489\n",
            "Epoch 124/150\n",
            "38/38 [==============================] - 1s 30ms/step - loss: 0.2409 - val_loss: 0.2487\n",
            "Epoch 125/150\n",
            "38/38 [==============================] - 1s 30ms/step - loss: 0.2409 - val_loss: 0.2488\n",
            "Epoch 126/150\n",
            "38/38 [==============================] - 1s 31ms/step - loss: 0.2411 - val_loss: 0.2495\n",
            "Epoch 127/150\n",
            "38/38 [==============================] - 1s 30ms/step - loss: 0.2412 - val_loss: 0.2488\n",
            "Epoch 128/150\n",
            "38/38 [==============================] - 1s 30ms/step - loss: 0.2406 - val_loss: 0.2488\n",
            "Epoch 129/150\n",
            "38/38 [==============================] - 1s 31ms/step - loss: 0.2407 - val_loss: 0.2496\n",
            "Epoch 130/150\n",
            "38/38 [==============================] - 1s 31ms/step - loss: 0.2406 - val_loss: 0.2496\n",
            "Epoch 131/150\n",
            "38/38 [==============================] - 1s 31ms/step - loss: 0.2403 - val_loss: 0.2492\n",
            "Epoch 132/150\n",
            "38/38 [==============================] - 1s 32ms/step - loss: 0.2405 - val_loss: 0.2487\n",
            "Epoch 133/150\n",
            "38/38 [==============================] - 1s 31ms/step - loss: 0.2404 - val_loss: 0.2490\n",
            "Epoch 134/150\n",
            "38/38 [==============================] - 1s 31ms/step - loss: 0.2404 - val_loss: 0.2487\n",
            "Epoch 135/150\n",
            "38/38 [==============================] - 1s 31ms/step - loss: 0.2404 - val_loss: 0.2490\n",
            "Epoch 136/150\n",
            "38/38 [==============================] - 1s 30ms/step - loss: 0.2400 - val_loss: 0.2496\n",
            "Epoch 137/150\n",
            "38/38 [==============================] - 1s 31ms/step - loss: 0.2401 - val_loss: 0.2492\n",
            "Epoch 138/150\n",
            "38/38 [==============================] - 1s 30ms/step - loss: 0.2401 - val_loss: 0.2494\n",
            "Epoch 139/150\n",
            "38/38 [==============================] - 1s 31ms/step - loss: 0.2407 - val_loss: 0.2491\n",
            "Epoch 140/150\n",
            "38/38 [==============================] - 1s 33ms/step - loss: 0.2401 - val_loss: 0.2491\n",
            "Epoch 141/150\n",
            "38/38 [==============================] - 1s 34ms/step - loss: 0.2398 - val_loss: 0.2493\n",
            "Epoch 142/150\n",
            "38/38 [==============================] - 1s 40ms/step - loss: 0.2396 - val_loss: 0.2490\n",
            "Epoch 143/150\n",
            "38/38 [==============================] - 2s 41ms/step - loss: 0.2397 - val_loss: 0.2488\n",
            "Epoch 144/150\n",
            "38/38 [==============================] - 1s 40ms/step - loss: 0.2399 - val_loss: 0.2493\n",
            "Epoch 145/150\n",
            "38/38 [==============================] - 1s 39ms/step - loss: 0.2395 - val_loss: 0.2491\n",
            "Epoch 146/150\n",
            "38/38 [==============================] - 1s 36ms/step - loss: 0.2395 - val_loss: 0.2488\n",
            "Epoch 147/150\n",
            "38/38 [==============================] - 1s 31ms/step - loss: 0.2396 - val_loss: 0.2494\n",
            "Epoch 148/150\n",
            "38/38 [==============================] - 1s 31ms/step - loss: 0.2394 - val_loss: 0.2493\n",
            "Epoch 149/150\n",
            "38/38 [==============================] - 1s 31ms/step - loss: 0.2396 - val_loss: 0.2501\n",
            "Epoch 150/150\n",
            "38/38 [==============================] - 1s 30ms/step - loss: 0.2394 - val_loss: 0.2493\n"
          ]
        }
      ]
    },
    {
      "cell_type": "code",
      "source": [
        "!pip install scikit-image\n",
        "from skimage.metrics import structural_similarity as ssim"
      ],
      "metadata": {
        "id": "19lCMmy1NsD9",
        "colab": {
          "base_uri": "https://localhost:8080/"
        },
        "outputId": "623826db-c68c-4e87-d6fc-73fef21aea43"
      },
      "execution_count": 120,
      "outputs": [
        {
          "output_type": "stream",
          "name": "stdout",
          "text": [
            "Requirement already satisfied: scikit-image in /usr/local/lib/python3.10/dist-packages (0.19.3)\n",
            "Requirement already satisfied: numpy>=1.17.0 in /usr/local/lib/python3.10/dist-packages (from scikit-image) (1.25.2)\n",
            "Requirement already satisfied: scipy>=1.4.1 in /usr/local/lib/python3.10/dist-packages (from scikit-image) (1.11.4)\n",
            "Requirement already satisfied: networkx>=2.2 in /usr/local/lib/python3.10/dist-packages (from scikit-image) (3.3)\n",
            "Requirement already satisfied: pillow!=7.1.0,!=7.1.1,!=8.3.0,>=6.1.0 in /usr/local/lib/python3.10/dist-packages (from scikit-image) (9.4.0)\n",
            "Requirement already satisfied: imageio>=2.4.1 in /usr/local/lib/python3.10/dist-packages (from scikit-image) (2.31.6)\n",
            "Requirement already satisfied: tifffile>=2019.7.26 in /usr/local/lib/python3.10/dist-packages (from scikit-image) (2024.6.18)\n",
            "Requirement already satisfied: PyWavelets>=1.1.1 in /usr/local/lib/python3.10/dist-packages (from scikit-image) (1.6.0)\n",
            "Requirement already satisfied: packaging>=20.0 in /usr/local/lib/python3.10/dist-packages (from scikit-image) (24.1)\n"
          ]
        }
      ]
    },
    {
      "cell_type": "code",
      "source": [
        "from joblib import Parallel, delayed\n",
        "\n",
        "def evaluate_ssim(model, test_data):\n",
        "    def calculate_ssim(original_image, reconstructed_image):\n",
        "        # Calculate SSIM\n",
        "        ssim_score = ssim(original_image, reconstructed_image, data_range=reconstructed_image.max() - reconstructed_image.min())\n",
        "        return ssim_score if not np.isnan(ssim_score) else 0.0  # Return 0.0 if SSIM is NaN\n",
        "\n",
        "    # Predict all reconstructed images in batch\n",
        "    reconstructed_images = model.predict(np.array(test_data))\n",
        "\n",
        "    # Calculate SSIM scores in parallel\n",
        "    num_cores = 4  # Adjust based on your CPU cores\n",
        "    ssim_scores = Parallel(n_jobs=num_cores)(\n",
        "        delayed(calculate_ssim)(original_image.reshape((28, 28)), reconstructed_image.reshape((28, 28)))\n",
        "        for original_image, reconstructed_image in zip(test_data, reconstructed_images)\n",
        "    )\n",
        "\n",
        "    # Filter out NaN scores and compute average SSIM\n",
        "    valid_ssim_scores = [score for score in ssim_scores if not np.isnan(score)]\n",
        "    avg_ssim = np.mean(valid_ssim_scores) if valid_ssim_scores else 0.0\n",
        "    print(f'Average SSIM: {avg_ssim}')\n",
        "\n",
        "\n",
        "    # Return the average SSIM score and the first three original and reconstructed images\n",
        "    return avg_ssim, test_data[:5], reconstructed_images[:5], ssim_scores[:5]\n",
        "\n",
        "# Plotting function to visualize original and reconstructed images\n",
        "def plot_images(original_images, reconstructed_images, ssim_scores):\n",
        "    num_images = len(original_images)\n",
        "    plt.figure(figsize=(10, 7))\n",
        "    for i in range(num_images):\n",
        "        plt.subplot(2, num_images, i + 1)\n",
        "        plt.imshow(original_images[i].reshape((28, 28)), cmap='gray')\n",
        "        plt.title(f'Original:')\n",
        "        plt.axis('off')\n",
        "\n",
        "        plt.subplot(2, num_images, num_images + i + 1)\n",
        "        plt.imshow(reconstructed_images[i].reshape((28, 28)), cmap='gray')\n",
        "        plt.title(f'Reconstructed\\nSSIM: {ssim_scores[i]:.4f}')\n",
        "        plt.axis('off')\n",
        "    plt.tight_layout()\n",
        "    plt.show()"
      ],
      "metadata": {
        "id": "hmfbZArtNtqY"
      },
      "execution_count": 151,
      "outputs": []
    },
    {
      "cell_type": "markdown",
      "source": [
        "Baseline Model"
      ],
      "metadata": {
        "id": "NmIsFjOgwkyS"
      }
    },
    {
      "cell_type": "code",
      "source": [
        "# Mengevaluasi model dengan SSIM\n",
        "avg_ssim, original_images, reconstructed_images, ssim_scores = evaluate_ssim(baseline_autoencoder, x_train)\n",
        "\n",
        "# Plot the first three original and reconstructed image pairs\n",
        "plot_images(original_images, reconstructed_images, ssim_scores)"
      ],
      "metadata": {
        "id": "ppI5mOx_NvaY",
        "colab": {
          "base_uri": "https://localhost:8080/",
          "height": 584
        },
        "outputId": "a83277a3-3d2f-42ea-9236-d6fba4d05d22"
      },
      "execution_count": 152,
      "outputs": [
        {
          "output_type": "stream",
          "name": "stdout",
          "text": [
            "300/300 [==============================] - 1s 2ms/step\n",
            "Average SSIM: 0.8452275256528107\n"
          ]
        },
        {
          "output_type": "display_data",
          "data": {
            "text/plain": [
              "<Figure size 1000x700 with 10 Axes>"
            ],
            "image/png": "[encoded data removed]"
          },
          "metadata": {}
        }
      ]
    },
    {
      "cell_type": "markdown",
      "source": [
        "Modified Model"
      ],
      "metadata": {
        "id": "kDSrif89wnKM"
      }
    },
    {
      "cell_type": "code",
      "source": [
        "# Mengevaluasi model dengan SSIM\n",
        "avg_ssim, original_images, reconstructed_images, ssim_scores = evaluate_ssim(modified_autoencoder, x_train)\n",
        "\n",
        "# Plot the first three original and reconstructed image pairs\n",
        "plot_images(original_images, reconstructed_images, ssim_scores)"
      ],
      "metadata": {
        "id": "yt-WNIgZNwRv",
        "colab": {
          "base_uri": "https://localhost:8080/",
          "height": 584
        },
        "outputId": "f4e4b563-94d7-4b73-f74d-6657bde6e572"
      },
      "execution_count": 153,
      "outputs": [
        {
          "output_type": "stream",
          "name": "stdout",
          "text": [
            "300/300 [==============================] - 2s 5ms/step\n",
            "Average SSIM: 0.8732700400120788\n"
          ]
        },
        {
          "output_type": "display_data",
          "data": {
            "text/plain": [
              "<Figure size 1000x700 with 10 Axes>"
            ],
            "image/png": "[encoded data removed]"
          },
          "metadata": {}
        }
      ]
    },
    {
      "cell_type": "markdown",
      "source": [
        "Tuning Hyperparameter"
      ],
      "metadata": {
        "id": "8P3_RiBvwo-G"
      }
    },
    {
      "cell_type": "code",
      "source": [
        "# Mengevaluasi model dengan SSIM\n",
        "avg_ssim, original_images, reconstructed_images, ssim_scores = evaluate_ssim(best_model, x_train)\n",
        "\n",
        "# Plot the first three original and reconstructed image pairs\n",
        "plot_images(original_images, reconstructed_images, ssim_scores)"
      ],
      "metadata": {
        "id": "C6_9bpjCcUJI",
        "colab": {
          "base_uri": "https://localhost:8080/",
          "height": 584
        },
        "outputId": "4a14aac5-bc83-407d-8a89-d5771e94abf9"
      },
      "execution_count": 154,
      "outputs": [
        {
          "output_type": "stream",
          "name": "stdout",
          "text": [
            "300/300 [==============================] - 1s 3ms/step\n",
            "Average SSIM: 0.850164239328266\n"
          ]
        },
        {
          "output_type": "display_data",
          "data": {
            "text/plain": [
              "<Figure size 1000x700 with 10 Axes>"
            ],
            "image/png": "[encoded data removed]"
          },
          "metadata": {}
        }
      ]
    }
  ]
}
